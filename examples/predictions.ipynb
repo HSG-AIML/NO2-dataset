{
 "cells": [
  {
   "cell_type": "code",
   "execution_count": 1,
   "id": "numerical-night",
   "metadata": {},
   "outputs": [],
   "source": [
    "import os\n",
    "import glob\n",
    "import yaml\n",
    "import random\n",
    "import datetime\n",
    "import pytz\n",
    "from tqdm import tqdm\n",
    "\n",
    "import numpy as np\n",
    "import xarray as xr\n",
    "import pandas as pd\n",
    "import geopandas as gpd\n",
    "\n",
    "from xgboost import XGBRegressor\n",
    "\n",
    "import seaborn as sns\n",
    "import matplotlib.pyplot as plt\n",
    "\n",
    "from sklearn.preprocessing import StandardScaler\n",
    "from sklearn.model_selection import train_test_split, cross_val_score\n",
    "from sklearn.metrics import mean_squared_error, mean_absolute_error, explained_variance_score, r2_score"
   ]
  },
  {
   "cell_type": "markdown",
   "id": "theoretical-olympus",
   "metadata": {},
   "source": [
    "# Ambient NO$_2$ Prediction with XGBoost\n",
    "* Predictions with daily frequency\n",
    "* Measurements from EEA stations are used as target\n",
    "* All other variables of the dataset are used as covariates\n",
    "* $\\frac{80}{20}$ train/test split by location"
   ]
  },
  {
   "cell_type": "code",
   "execution_count": 5,
   "id": "surprised-holmes",
   "metadata": {},
   "outputs": [],
   "source": [
    "# load the NO2 dataset\n",
    "sat_data = pd.read_csv(\"no2_dataset.csv\", parse_dates=[\"SatelliteDatetime\", \"SurfaceDatetime\"])\n",
    "sat_data = gpd.GeoDataFrame(sat_data, geometry=gpd.points_from_xy(sat_data.SurfaceLongitude, sat_data.SurfaceLatitude))"
   ]
  },
  {
   "cell_type": "code",
   "execution_count": 7,
   "id": "compact-forest",
   "metadata": {},
   "outputs": [],
   "source": [
    "# drop all observations with negative surface NO2 concentration measurement\n",
    "sat_data = sat_data[sat_data.SurfaceConcentration >= 0]\n",
    "sat_data = sat_data.reset_index(drop=True)"
   ]
  },
  {
   "cell_type": "code",
   "execution_count": 8,
   "id": "smart-hampshire",
   "metadata": {},
   "outputs": [],
   "source": [
    "# get counts and indices of stations with few observations (we might want to drop those too)\n",
    "station_counts = sat_data.AirQualityStation.value_counts()\n",
    "stations_too_few = station_counts[station_counts < 100].index"
   ]
  },
  {
   "cell_type": "code",
   "execution_count": 14,
   "id": "varying-maker",
   "metadata": {},
   "outputs": [],
   "source": [
    "# select relevant data for model training\n",
    "features = [\"AreaType\", \"StationType\", \"SurfaceLongitude\", \"SurfaceLatitude\", \"SensingTimeDiff\", \"Hour\", \"Weekday\", \"Month\",\n",
    "            \"Altitude\", \"PopulationDensity\", \"Temperature\", \"Precipitation\", \"Lockdown\", \"TroposphericNO2ColumnNumberDensity\"]\n",
    "\n",
    "features_categorical_all = [\"AreaType\", \"StationType\", \"Weekday\", \"Hour\", \"Month\", \"Lockdown\"]\n",
    "features_categorical = [x for x in features_categorical_all if x in features]\n",
    "target = \"SurfaceConcentration\""
   ]
  },
  {
   "cell_type": "code",
   "execution_count": 15,
   "id": "developing-gardening",
   "metadata": {},
   "outputs": [
    {
     "data": {
      "text/plain": [
       "(1618669, (1618669, 23))"
      ]
     },
     "execution_count": 15,
     "metadata": {},
     "output_type": "execute_result"
    }
   ],
   "source": [
    "# select observations that are valid, i.e. no NaNs, positive surface NO2 concentrations\n",
    "okay_ind = (np.isnan(sat_data[target]) == False) & (sat_data[target] >= 0) \n",
    "okay_stations = sat_data[okay_ind].AirQualityStation.unique()"
   ]
  },
  {
   "cell_type": "code",
   "execution_count": 16,
   "id": "challenging-breathing",
   "metadata": {},
   "outputs": [
    {
     "data": {
      "text/plain": [
       "((1618669, 14), (1618669,))"
      ]
     },
     "execution_count": 16,
     "metadata": {},
     "output_type": "execute_result"
    }
   ],
   "source": [
    "X = sat_data.loc[okay_ind, features].copy()\n",
    "y = sat_data.loc[okay_ind, target].copy()\n",
    "\n",
    "X.shape, y.shape"
   ]
  },
  {
   "cell_type": "code",
   "execution_count": 18,
   "id": "accepting-tournament",
   "metadata": {},
   "outputs": [],
   "source": [
    "# get one-hot encoding of categorical variables\n",
    "X = pd.get_dummies(X, columns=[f for f in features_categorical if f in X.columns], drop_first=False)"
   ]
  },
  {
   "cell_type": "code",
   "execution_count": 20,
   "id": "eligible-south",
   "metadata": {},
   "outputs": [],
   "source": [
    "# make train/test split by locations\n",
    "# get locations for dataset split\n",
    "\n",
    "train_proportion = 0.2\n",
    "\n",
    "locs = pd.Series(zip(X.SurfaceLongitude, X.SurfaceLatitude)).unique()\n",
    "random.shuffle(locs)\n",
    "\n",
    "split_point = int(len(locs) * train_proportion)\n",
    "loc_test = locs[0:split_point]\n",
    "loc_train = locs[split_point:]\n",
    "\n",
    "# split dataset by locations\n",
    "l = pd.Series(zip(X.SurfaceLongitude, X.SurfaceLatitude), index=X.index)\n",
    "train_ind = l.isin(loc_train)\n",
    "test_ind = l.isin(loc_test)"
   ]
  },
  {
   "cell_type": "code",
   "execution_count": 21,
   "id": "stone-dream",
   "metadata": {},
   "outputs": [
    {
     "name": "stdout",
     "output_type": "stream",
     "text": [
      "train, test sizes before: 1302061 316608\n",
      "y: (1618669,)\n",
      "train ind: (1618669,)\n"
     ]
    }
   ],
   "source": [
    "# Scale numeric variables to zero mean and unit variance\n",
    "columns_to_scale_all = [\"TroposphericNO2ColumnNumberDensity\", \"SensingTimeDiff\", \"Temperature\", \"Precipitation\", \"Altitude\", \n",
    "                        \"PopulationDensity\", \"SurfaceLongitude\", \"SurfaceLatitude\"]\n",
    "columns_to_scale = [x for x in columns_to_scale_all if x in X.columns]\n",
    "\n",
    "if columns_to_scale:\n",
    "    scaler = StandardScaler()\n",
    "    X.loc[train_ind, columns_to_scale] = scaler.fit_transform(X.loc[train_ind, columns_to_scale])\n",
    "    X.loc[test_ind, columns_to_scale] = scaler.transform(X.loc[test_ind, columns_to_scale])\n",
    "\n",
    "scaler_eea = StandardScaler()\n",
    "\n",
    "# scale target\n",
    "y.loc[train_ind] = scaler_eea.fit_transform(y.loc[train_ind].values.reshape(-1, 1)).flatten()\n",
    "y.loc[test_ind] = scaler_eea.transform(y.loc[test_ind].values.reshape(-1, 1)).flatten()"
   ]
  },
  {
   "cell_type": "code",
   "execution_count": 26,
   "id": "italic-columbus",
   "metadata": {},
   "outputs": [
    {
     "name": "stdout",
     "output_type": "stream",
     "text": [
      "Train: X: (1302061, 59) y: (1302061,)\n",
      "Test X (316608, 59) y: (316608,)\n"
     ]
    }
   ],
   "source": [
    "# set train and test sets\n",
    "X_train = X[train_ind]\n",
    "y_train = y[train_ind]\n",
    "X_test = X[test_ind]\n",
    "y_test = y[test_ind]\n",
    "\n",
    "print(f\"Train: X: {X_train.shape} y: {y_train.shape}\")\n",
    "print(f\"Test X {X_test.shape} y: {y_test.shape}\")"
   ]
  },
  {
   "cell_type": "code",
   "execution_count": 27,
   "id": "attempted-angle",
   "metadata": {},
   "outputs": [],
   "source": [
    "y_train = pd.DataFrame(y_train)\n",
    "y_test = pd.DataFrame(y_test)"
   ]
  },
  {
   "cell_type": "code",
   "execution_count": 30,
   "id": "european-worst",
   "metadata": {},
   "outputs": [],
   "source": [
    "# initialize model\n",
    "regr = XGBRegressor()"
   ]
  },
  {
   "cell_type": "code",
   "execution_count": 31,
   "id": "executed-specific",
   "metadata": {},
   "outputs": [
    {
     "name": "stdout",
     "output_type": "stream",
     "text": [
      "R2-Score: 0.5270269353488392\n"
     ]
    }
   ],
   "source": [
    "# fit and score xgboost model\n",
    "regr.fit(X_train, y_train)\n",
    "print(\"R2-Score:\", regr.score(X_test, y_test))"
   ]
  },
  {
   "cell_type": "code",
   "execution_count": 32,
   "id": "fourth-release",
   "metadata": {},
   "outputs": [
    {
     "name": "stdout",
     "output_type": "stream",
     "text": [
      "scores: [0.56974306 0.54100825] \n",
      "mean: , 0.555375653911561 std: 0.014367407799562248\n"
     ]
    }
   ],
   "source": [
    "# do k fold CV\n",
    "k = 5\n",
    "scores = cross_val_score(regr, X, y, cv=k, n_jobs=5)\n",
    "print(f\"scores: {scores} \\nmean: {scores.mean()} std: {scores.std()}\")"
   ]
  },
  {
   "cell_type": "code",
   "execution_count": 33,
   "id": "developing-syndicate",
   "metadata": {},
   "outputs": [
    {
     "data": {
      "text/html": [
       "<div>\n",
       "<style scoped>\n",
       "    .dataframe tbody tr th:only-of-type {\n",
       "        vertical-align: middle;\n",
       "    }\n",
       "\n",
       "    .dataframe tbody tr th {\n",
       "        vertical-align: top;\n",
       "    }\n",
       "\n",
       "    .dataframe thead th {\n",
       "        text-align: right;\n",
       "    }\n",
       "</style>\n",
       "<table border=\"1\" class=\"dataframe\">\n",
       "  <thead>\n",
       "    <tr style=\"text-align: right;\">\n",
       "      <th></th>\n",
       "      <th>Feature</th>\n",
       "      <th>Importance</th>\n",
       "    </tr>\n",
       "  </thead>\n",
       "  <tbody>\n",
       "    <tr>\n",
       "      <th>16</th>\n",
       "      <td>StationType_traffic</td>\n",
       "      <td>0.313620</td>\n",
       "    </tr>\n",
       "    <tr>\n",
       "      <th>7</th>\n",
       "      <td>TroposphericNO2ColumnNumberDensity</td>\n",
       "      <td>0.094332</td>\n",
       "    </tr>\n",
       "    <tr>\n",
       "      <th>13</th>\n",
       "      <td>AreaType_urban</td>\n",
       "      <td>0.074402</td>\n",
       "    </tr>\n",
       "    <tr>\n",
       "      <th>12</th>\n",
       "      <td>AreaType_suburban</td>\n",
       "      <td>0.037872</td>\n",
       "    </tr>\n",
       "    <tr>\n",
       "      <th>38</th>\n",
       "      <td>Month_1</td>\n",
       "      <td>0.036386</td>\n",
       "    </tr>\n",
       "  </tbody>\n",
       "</table>\n",
       "</div>"
      ],
      "text/plain": [
       "                               Feature  Importance\n",
       "16                 StationType_traffic    0.313620\n",
       "7   TroposphericNO2ColumnNumberDensity    0.094332\n",
       "13                      AreaType_urban    0.074402\n",
       "12                   AreaType_suburban    0.037872\n",
       "38                             Month_1    0.036386"
      ]
     },
     "execution_count": 33,
     "metadata": {},
     "output_type": "execute_result"
    }
   ],
   "source": [
    "# get feature importances\n",
    "imp = pd.DataFrame(columns=[\"Feature\", \"Importance\"], data=list(zip(X.columns, regr.feature_importances_)))\n",
    "imp.sort_values(by=\"Importance\", inplace=True, ascending=False)\n",
    "imp.head()"
   ]
  },
  {
   "cell_type": "code",
   "execution_count": 34,
   "id": "earned-marine",
   "metadata": {},
   "outputs": [],
   "source": [
    "# save predictions for test and train set\n",
    "y_hat = regr.predict(X_test)\n",
    "y_hat_train = regr.predict(X_train)"
   ]
  },
  {
   "cell_type": "code",
   "execution_count": 35,
   "id": "engaged-storage",
   "metadata": {},
   "outputs": [],
   "source": [
    "# scale predictions back to input domain\n",
    "# set index s.t. it references back to sat_data\n",
    "y_hat_scaled_s = pd.Series(index=y_test.index, data=scaler_eea.inverse_transform(np.array(y_hat).reshape(-1,1)).flatten())\n",
    "y_hat_train_scaled_s = pd.Series(index=y_train.index, data=scaler_eea.inverse_transform(np.array(y_hat_train).reshape(-1,1)).flatten())\n",
    "\n",
    "y_test_scaled_s = pd.Series(index=y_test.index, data=scaler_eea.inverse_transform(np.array(y_test).reshape(-1,1)).flatten())\n",
    "y_train_scaled_s = pd.Series(index=y_train.index, data=scaler_eea.inverse_transform(np.array(y_train).reshape(-1,1)).flatten())"
   ]
  },
  {
   "cell_type": "code",
   "execution_count": 59,
   "id": "functioning-imaging",
   "metadata": {},
   "outputs": [],
   "source": [
    "# print performance metrics (for single prediction, not for CV)\n",
    "performances = []\n",
    "for split, y, y_hat in [(\"Test\", y_test_scaled_s, y_hat_scaled_s), (\"Train\", y_train_scaled_s, y_hat_train_scaled_s)]:\n",
    "    metrics = [split]\n",
    "    metrics.extend([perf_measure(y, y_hat) for perf_measure in [r2_score, mean_absolute_error, mean_squared_error]])\n",
    "    performances.append(metrics)"
   ]
  },
  {
   "cell_type": "code",
   "execution_count": 60,
   "id": "lesser-monitor",
   "metadata": {},
   "outputs": [],
   "source": [
    "performances = pd.DataFrame(data=performances, columns = [\"Set\", \"R2-Score\", \"MAE\", \"MSE\"]).set_index(\"Set\")"
   ]
  },
  {
   "cell_type": "code",
   "execution_count": 61,
   "id": "dedicated-student",
   "metadata": {},
   "outputs": [
    {
     "data": {
      "text/html": [
       "<div>\n",
       "<style scoped>\n",
       "    .dataframe tbody tr th:only-of-type {\n",
       "        vertical-align: middle;\n",
       "    }\n",
       "\n",
       "    .dataframe tbody tr th {\n",
       "        vertical-align: top;\n",
       "    }\n",
       "\n",
       "    .dataframe thead th {\n",
       "        text-align: right;\n",
       "    }\n",
       "</style>\n",
       "<table border=\"1\" class=\"dataframe\">\n",
       "  <thead>\n",
       "    <tr style=\"text-align: right;\">\n",
       "      <th></th>\n",
       "      <th>R2-Score</th>\n",
       "      <th>MAE</th>\n",
       "      <th>MSE</th>\n",
       "    </tr>\n",
       "    <tr>\n",
       "      <th>Set</th>\n",
       "      <th></th>\n",
       "      <th></th>\n",
       "      <th></th>\n",
       "    </tr>\n",
       "  </thead>\n",
       "  <tbody>\n",
       "    <tr>\n",
       "      <th>Test</th>\n",
       "      <td>0.527027</td>\n",
       "      <td>5.919729</td>\n",
       "      <td>90.055684</td>\n",
       "    </tr>\n",
       "    <tr>\n",
       "      <th>Train</th>\n",
       "      <td>0.671514</td>\n",
       "      <td>5.156549</td>\n",
       "      <td>67.122369</td>\n",
       "    </tr>\n",
       "  </tbody>\n",
       "</table>\n",
       "</div>"
      ],
      "text/plain": [
       "       R2-Score       MAE        MSE\n",
       "Set                                 \n",
       "Test   0.527027  5.919729  90.055684\n",
       "Train  0.671514  5.156549  67.122369"
      ]
     },
     "execution_count": 61,
     "metadata": {},
     "output_type": "execute_result"
    }
   ],
   "source": [
    "performances"
   ]
  },
  {
   "cell_type": "code",
   "execution_count": 63,
   "id": "confidential-palestine",
   "metadata": {},
   "outputs": [],
   "source": [
    "# create dataframe for plotting\n",
    "y_test_scaled_s.name, y_hat_scaled_s.name = \"NO2_measurement\", \"NO2_prediction\"\n",
    "station_types = sat_data.loc[y_test_scaled_s.index].StationType\n",
    "data = pd.concat([y_test_scaled_s, y_hat_scaled_s, station_types], axis=1)"
   ]
  },
  {
   "cell_type": "code",
   "execution_count": 65,
   "id": "fuzzy-begin",
   "metadata": {},
   "outputs": [],
   "source": [
    "# set seaborn params\n",
    "sns_context = {'lines.linewidth': 1}#, 'lines.markersize': 10}                  \n",
    "sns.set_context(\"paper\", rc = sns_context)  "
   ]
  },
  {
   "cell_type": "code",
   "execution_count": 68,
   "id": "arranged-abraham",
   "metadata": {},
   "outputs": [
    {
     "data": {
      "image/png": "[encoded data removed]",
      "text/plain": [
       "<Figure size 360x360 with 1 Axes>"
      ]
     },
     "metadata": {
      "needs_background": "light"
     },
     "output_type": "display_data"
    }
   ],
   "source": [
    "# plot predictions vs. measurements\n",
    "# kde plot may take a while for lots of datapoints\n",
    "\n",
    "# restrict plotting to reasonable range (>99% of data)\n",
    "max_val = 110\n",
    "\n",
    "fig, ax = plt.subplots(1, figsize=(5,5))\n",
    "plt.setp(ax.get_xticklabels(), fontsize=10)\n",
    "plt.setp(ax.get_yticklabels(), fontsize=10)\n",
    "\n",
    "ax.scatter(data.NO2_measurement, data.NO2_prediction, s=1, alpha=0.5)\n",
    "ax.plot((0,max_val), (0,max_val), c=\"red\")\n",
    "\n",
    "# add contour lines from kde\n",
    "sns.kdeplot(data=data, x=\"NO2_measurement\", y=\"NO2_prediction\", ax=ax, levels=5, color=\"black\")\n",
    "\n",
    "ax.text(10, 100, \"n=\"+str(data.shape[0]))\n",
    "ax.set_xlim((-1, max_val))\n",
    "ax.set_ylim((-2, max_val))\n",
    "ax.set_xlabel(\"NO$_2$ Measurement [$\\mu g/ m^{3}$]\", fontsize=14)\n",
    "ax.set_ylabel(\"NO$_2$ Prediction [$\\mu g/ m^{3}$]\", fontsize=14)\n",
    "\n",
    "plt.show()"
   ]
  },
  {
   "cell_type": "code",
   "execution_count": null,
   "id": "experimental-isolation",
   "metadata": {},
   "outputs": [],
   "source": []
  }
 ],
 "metadata": {
  "kernelspec": {
   "display_name": "no2_dataset-env-kernel",
   "language": "python",
   "name": "no2_dataset-env-kernel"
  },
  "language_info": {
   "codemirror_mode": {
    "name": "ipython",
    "version": 3
   },
   "file_extension": ".py",
   "mimetype": "text/x-python",
   "name": "python",
   "nbconvert_exporter": "python",
   "pygments_lexer": "ipython3",
   "version": "3.8.2"
  }
 },
 "nbformat": 4,
 "nbformat_minor": 5
}
